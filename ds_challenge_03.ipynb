{
 "cells": [
  {
   "cell_type": "code",
   "execution_count": 23,
   "metadata": {},
   "outputs": [
    {
     "name": "stdout",
     "output_type": "stream",
     "text": [
      "User\n",
      "AlecMorgan\n",
      "as6140\n",
      "ZMBailey\n",
      "rokaandy\n",
      "AnnaLara\n",
      "ConnorAnderson29\n",
      "UpwardTrajectory\n",
      "///Unknown///\n",
      "AlludedCrabb\n",
      "jnawjux\n",
      "kayschulz\n",
      "kevintheduu\n",
      "Laura-ShummonMaass\n",
      "worldyne\n",
      "glmack\n",
      "mandoiwanaga\n",
      "MIAISEMAN\n",
      "nkacoroski\n",
      "Patrickbfuller\n",
      "sherzyang\n",
      "Teosoft7\n",
      "TSGreenwood\n",
      "angrobanGit\n"
     ]
    }
   ],
   "source": [
    "import csv\n",
    "\n",
    "with open ('data.csv') as csv_file:\n",
    "    csv_reader = csv.reader(csv_file, delimiter=',')\n",
    "    for row in csv_reader:\n",
    "        if row[0]:\n",
    "            if row[1]:\n",
    "                print(row[1])\n",
    "            else:\n",
    "                print('///Unknown///')\n",
    "    "
   ]
  },
  {
   "cell_type": "code",
   "execution_count": null,
   "metadata": {},
   "outputs": [],
   "source": []
  }
 ],
 "metadata": {
  "kernelspec": {
   "display_name": "learn-env",
   "language": "python",
   "name": "learn-env"
  },
  "language_info": {
   "codemirror_mode": {
    "name": "ipython",
    "version": 3
   },
   "file_extension": ".py",
   "mimetype": "text/x-python",
   "name": "python",
   "nbconvert_exporter": "python",
   "pygments_lexer": "ipython3",
   "version": "3.6.6"
  }
 },
 "nbformat": 4,
 "nbformat_minor": 2
}
